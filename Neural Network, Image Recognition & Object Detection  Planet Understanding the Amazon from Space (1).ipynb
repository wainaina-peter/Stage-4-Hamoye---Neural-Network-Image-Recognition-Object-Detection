{
 "cells": [
  {
   "cell_type": "code",
   "execution_count": 1,
   "metadata": {
    "_cell_guid": "b1076dfc-b9ad-4769-8c92-a6c4dae69d19",
    "_uuid": "8f2839f25d086af736a60e9eeb907d3b93b6e0e5",
    "id": "UY6Weg2vxATG"
   },
   "outputs": [
    {
     "name": "stderr",
     "output_type": "stream",
     "text": [
      "2023-07-17 08:57:52.460587: I tensorflow/tsl/cuda/cudart_stub.cc:28] Could not find cuda drivers on your machine, GPU will not be used.\n",
      "2023-07-17 08:57:52.834815: I tensorflow/tsl/cuda/cudart_stub.cc:28] Could not find cuda drivers on your machine, GPU will not be used.\n",
      "2023-07-17 08:57:52.837044: I tensorflow/core/platform/cpu_feature_guard.cc:182] This TensorFlow binary is optimized to use available CPU instructions in performance-critical operations.\n",
      "To enable the following instructions: AVX2 FMA, in other operations, rebuild TensorFlow with the appropriate compiler flags.\n",
      "2023-07-17 08:57:54.098183: W tensorflow/compiler/tf2tensorrt/utils/py_utils.cc:38] TF-TRT Warning: Could not find TensorRT\n"
     ]
    }
   ],
   "source": [
    "import os\n",
    "import pandas as pd\n",
    "import numpy as np\n",
    "import seaborn as sns\n",
    "import gc \n",
    "import matplotlib.pyplot as plt\n",
    "import cv2 \n",
    "import tensorflow as tf\n",
    "from tensorflow import keras\n",
    "from tqdm import tqdm\n",
    "from matplotlib.image import imread\n",
    "from sklearn.model_selection import train_test_split\n",
    "from keras import optimizers\n",
    "from tensorflow.keras.optimizers import Adam\n",
    "from keras.models import Sequential, Model\n",
    "from keras.layers import Input, Dense, Dropout, Flatten\n",
    "from keras.layers import Conv2D, MaxPooling2D, BatchNormalization\n",
    "from keras.callbacks import EarlyStopping \n",
    "from keras.preprocessing.image import ImageDataGenerator\n",
    "\n",
    "import warnings\n",
    "# filter warnings\n",
    "warnings.filterwarnings('ignore')"
   ]
  },
  {
   "cell_type": "code",
   "execution_count": 2,
   "metadata": {
    "id": "r0BB-FXSxATL"
   },
   "outputs": [],
   "source": [
    "train_csv = '/home/pierre/Desktop/planet data/planet/planet/train_classes.csv'\n",
    "test_csv = '/home/pierre/Desktop/planet data/planet/planet/sample_submission.csv'"
   ]
  },
  {
   "cell_type": "code",
   "execution_count": 3,
   "metadata": {
    "_cell_guid": "79c7e3d0-c299-4dcb-8224-4455121ee9b0",
    "_uuid": "d629ff2d2480ee46fbb7e2d37f6b5fab8052498a",
    "id": "EpRrHTc-xATM",
    "outputId": "87c064f2-e53a-4562-e200-f70ed4a34325"
   },
   "outputs": [
    {
     "data": {
      "text/html": [
       "<div>\n",
       "<style scoped>\n",
       "    .dataframe tbody tr th:only-of-type {\n",
       "        vertical-align: middle;\n",
       "    }\n",
       "\n",
       "    .dataframe tbody tr th {\n",
       "        vertical-align: top;\n",
       "    }\n",
       "\n",
       "    .dataframe thead th {\n",
       "        text-align: right;\n",
       "    }\n",
       "</style>\n",
       "<table border=\"1\" class=\"dataframe\">\n",
       "  <thead>\n",
       "    <tr style=\"text-align: right;\">\n",
       "      <th></th>\n",
       "      <th>image_name</th>\n",
       "      <th>tags</th>\n",
       "    </tr>\n",
       "  </thead>\n",
       "  <tbody>\n",
       "    <tr>\n",
       "      <th>0</th>\n",
       "      <td>train_0</td>\n",
       "      <td>haze primary</td>\n",
       "    </tr>\n",
       "    <tr>\n",
       "      <th>1</th>\n",
       "      <td>train_1</td>\n",
       "      <td>agriculture clear primary water</td>\n",
       "    </tr>\n",
       "    <tr>\n",
       "      <th>2</th>\n",
       "      <td>train_2</td>\n",
       "      <td>clear primary</td>\n",
       "    </tr>\n",
       "    <tr>\n",
       "      <th>3</th>\n",
       "      <td>train_3</td>\n",
       "      <td>clear primary</td>\n",
       "    </tr>\n",
       "    <tr>\n",
       "      <th>4</th>\n",
       "      <td>train_4</td>\n",
       "      <td>agriculture clear habitation primary road</td>\n",
       "    </tr>\n",
       "  </tbody>\n",
       "</table>\n",
       "</div>"
      ],
      "text/plain": [
       "  image_name                                       tags\n",
       "0    train_0                               haze primary\n",
       "1    train_1            agriculture clear primary water\n",
       "2    train_2                              clear primary\n",
       "3    train_3                              clear primary\n",
       "4    train_4  agriculture clear habitation primary road"
      ]
     },
     "execution_count": 3,
     "metadata": {},
     "output_type": "execute_result"
    }
   ],
   "source": [
    "train_classes = pd.read_csv(train_csv)\n",
    "train_classes.head()"
   ]
  },
  {
   "cell_type": "code",
   "execution_count": 4,
   "metadata": {
    "id": "OYCuLS9sxATO",
    "outputId": "db8f551e-c23f-44bf-f20b-4350e477f2e1"
   },
   "outputs": [
    {
     "data": {
      "text/html": [
       "<div>\n",
       "<style scoped>\n",
       "    .dataframe tbody tr th:only-of-type {\n",
       "        vertical-align: middle;\n",
       "    }\n",
       "\n",
       "    .dataframe tbody tr th {\n",
       "        vertical-align: top;\n",
       "    }\n",
       "\n",
       "    .dataframe thead th {\n",
       "        text-align: right;\n",
       "    }\n",
       "</style>\n",
       "<table border=\"1\" class=\"dataframe\">\n",
       "  <thead>\n",
       "    <tr style=\"text-align: right;\">\n",
       "      <th></th>\n",
       "      <th>image_name</th>\n",
       "      <th>tags</th>\n",
       "    </tr>\n",
       "  </thead>\n",
       "  <tbody>\n",
       "    <tr>\n",
       "      <th>0</th>\n",
       "      <td>test_0</td>\n",
       "      <td>primary clear agriculture road water</td>\n",
       "    </tr>\n",
       "    <tr>\n",
       "      <th>1</th>\n",
       "      <td>test_1</td>\n",
       "      <td>primary clear agriculture road water</td>\n",
       "    </tr>\n",
       "    <tr>\n",
       "      <th>2</th>\n",
       "      <td>test_2</td>\n",
       "      <td>primary clear agriculture road water</td>\n",
       "    </tr>\n",
       "    <tr>\n",
       "      <th>3</th>\n",
       "      <td>test_3</td>\n",
       "      <td>primary clear agriculture road water</td>\n",
       "    </tr>\n",
       "    <tr>\n",
       "      <th>4</th>\n",
       "      <td>test_4</td>\n",
       "      <td>primary clear agriculture road water</td>\n",
       "    </tr>\n",
       "  </tbody>\n",
       "</table>\n",
       "</div>"
      ],
      "text/plain": [
       "  image_name                                  tags\n",
       "0     test_0  primary clear agriculture road water\n",
       "1     test_1  primary clear agriculture road water\n",
       "2     test_2  primary clear agriculture road water\n",
       "3     test_3  primary clear agriculture road water\n",
       "4     test_4  primary clear agriculture road water"
      ]
     },
     "execution_count": 4,
     "metadata": {},
     "output_type": "execute_result"
    }
   ],
   "source": [
    "test_classes= pd.read_csv(test_csv)\n",
    "test_classes.head()"
   ]
  },
  {
   "cell_type": "code",
   "execution_count": 5,
   "metadata": {
    "id": "i7RZQiA4xATP",
    "outputId": "be76ddc4-90d3-4fd9-fac1-6ea6ca9180d8"
   },
   "outputs": [
    {
     "data": {
      "text/plain": [
       "['haze', 'primary', 'agriculture']"
      ]
     },
     "execution_count": 5,
     "metadata": {},
     "output_type": "execute_result"
    }
   ],
   "source": [
    "label_list = [label for tag_str in train_classes.tags.values for label in tag_str.split(' ')]\n",
    "label_list[:3]"
   ]
  },
  {
   "cell_type": "code",
   "execution_count": 6,
   "metadata": {
    "id": "59TWBtoNxATR",
    "outputId": "11e32e66-092a-4e79-df97-51b1091dabed"
   },
   "outputs": [
    {
     "data": {
      "text/plain": [
       "defaultdict(int,\n",
       "            {'haze': 2697,\n",
       "             'primary': 37513,\n",
       "             'agriculture': 12315,\n",
       "             'clear': 28431,\n",
       "             'water': 7411,\n",
       "             'habitation': 3660,\n",
       "             'road': 8071,\n",
       "             'cultivation': 4547,\n",
       "             'slash_burn': 209,\n",
       "             'cloudy': 2089,\n",
       "             'partly_cloudy': 7261,\n",
       "             'conventional_mine': 100,\n",
       "             'bare_ground': 862,\n",
       "             'artisinal_mine': 339,\n",
       "             'blooming': 332,\n",
       "             'selective_logging': 340,\n",
       "             'blow_down': 101})"
      ]
     },
     "execution_count": 6,
     "metadata": {},
     "output_type": "execute_result"
    }
   ],
   "source": [
    "from collections import Counter\n",
    "\n",
    "count_ = Counter(label_list)\n",
    "\n",
    "count_"
   ]
  },
  {
   "cell_type": "code",
   "execution_count": 7,
   "metadata": {
    "id": "cnuBHEn1xATR",
    "outputId": "c00542e8-55c7-4131-8297-90bafd586229"
   },
   "outputs": [
    {
     "data": {
      "image/png": "[encoded data removed]",
      "text/plain": [
       "<Figure size 640x480 with 1 Axes>"
      ]
     },
     "metadata": {},
     "output_type": "display_data"
    }
   ],
   "source": [
    "tags = list(count_.keys())\n",
    "y = list(count_.values())\n",
    "sns.barplot(x=tags, y=y)\n",
    "plt.xlabel('labels')\n",
    "plt.xticks(rotation=90)\n",
    "plt.title('tags for train_classes')\n",
    "plt.show()"
   ]
  },
  {
   "cell_type": "code",
   "execution_count": 8,
   "metadata": {
    "id": "vqTI5TWvxATT",
    "outputId": "ec9fa48e-37cf-42a5-ce75-cc463fa3c4f8"
   },
   "outputs": [
    {
     "data": {
      "text/plain": [
       "Text(0.5, 1.0, 'Tag counts for test set')"
      ]
     },
     "execution_count": 8,
     "metadata": {},
     "output_type": "execute_result"
    },
    {
     "data": {
      "image/png": "[encoded data removed]",
      "text/plain": [
       "<Figure size 640x480 with 1 Axes>"
      ]
     },
     "metadata": {},
     "output_type": "display_data"
    }
   ],
   "source": [
    "from collections import Counter, defaultdict\n",
    "test_label = test_classes['tags'].apply(lambda x: x.split(' '))\n",
    "test_counts = defaultdict(int)\n",
    "for i in test_label:\n",
    "for j in i:\n",
    "test_counts[j] += 1\n",
    "tag_list_test = list(test_counts.keys())\n",
    "test_count = list(test_counts.values())\n",
    "sns.barplot(x=tag_list_test, y=test_count)\n",
    "plt.xlabel('labels')\n",
    "plt.xticks(rotation=90)\n",
    "plt.title('Tag counts for test set')\n",
    "plt.show()"
   ]
  },
  {
   "cell_type": "markdown",
   "metadata": {
    "id": "azUPD2MMxATU"
   },
   "source": [
    "**The code below helps us to visualize an image for inspection**"
   ]
  },
  {
   "cell_type": "code",
   "execution_count": 10,
   "metadata": {
    "id": "eV5g_DTUxATV",
    "outputId": "c6e4c7b9-3f00-4c7e-fc21-e644d3b7527b"
   },
   "outputs": [
    {
     "data": {
      "text/plain": [
       "{'haze': 0,\n",
       " 'primary': 1,\n",
       " 'agriculture': 2,\n",
       " 'clear': 3,\n",
       " 'water': 4,\n",
       " 'habitation': 5,\n",
       " 'road': 6,\n",
       " 'cultivation': 7,\n",
       " 'slash_burn': 8,\n",
       " 'cloudy': 9,\n",
       " 'partly_cloudy': 10,\n",
       " 'conventional_mine': 11,\n",
       " 'bare_ground': 12,\n",
       " 'artisinal_mine': 13,\n",
       " 'blooming': 14,\n",
       " 'selective_logging': 15,\n",
       " 'blow_down': 16}"
      ]
     },
     "execution_count": 10,
     "metadata": {},
     "output_type": "execute_result"
    }
   ],
   "source": [
    "class_label = { tag: name for name, tag in enumerate(tags)}\n",
    "class_label"
   ]
  },
  {
   "cell_type": "code",
   "execution_count": 11,
   "metadata": {
    "id": "UyaxOcXFxATW",
    "outputId": "4bb52d61-1cd1-437d-b8e8-674b18901084"
   },
   "outputs": [
    {
     "data": {
      "text/plain": [
       "array(['haze', 'primary', 'agriculture', 'clear', 'water', 'habitation',\n",
       "       'road', 'cultivation', 'slash_burn', 'cloudy', 'partly_cloudy',\n",
       "       'conventional_mine', 'bare_ground', 'artisinal_mine', 'blooming',\n",
       "       'selective_logging', 'blow_down'], dtype='<U17')"
      ]
     },
     "execution_count": 11,
     "metadata": {},
     "output_type": "execute_result"
    }
   ],
   "source": [
    "lst = []\n",
    "for key,value in class_label.items():\n",
    "    lst.append(key)\n",
    "lst = np.array(lst)\n",
    "lst"
   ]
  },
  {
   "cell_type": "code",
   "execution_count": 12,
   "metadata": {
    "id": "hc2tHuCpxATX",
    "outputId": "b612754d-9067-42b8-daa0-4bdb84af0506"
   },
   "outputs": [
    {
     "name": "stderr",
     "output_type": "stream",
     "text": [
      "100%|████████████████████████████████████| 40479/40479 [00:57<00:00, 709.96it/s]\n"
     ]
    }
   ],
   "source": [
    "train_images, train_labels = [],[]\n",
    "for image_name, tags in tqdm(train_classes.values, miniters=1000):\n",
    "    arr = cv2.imread('/home/pierre/Desktop/planet data/planet/planet/train-jpg/{}.jpg'.format(image_name))\n",
    "    targets = np.zeros(17)\n",
    "    for t in tags.split(' '):\n",
    "        targets[class_label[t]]=1\n",
    "    train_images.append(cv2.resize(arr,(64,64)))\n",
    "    train_labels.append(targets) #encodes the labels in target class\n",
    "    \n",
    "    "
   ]
  },
  {
   "cell_type": "code",
   "execution_count": 13,
   "metadata": {
    "id": "wQjDETH5xATY"
   },
   "outputs": [
    {
     "name": "stderr",
     "output_type": "stream",
     "text": [
      "100%|████████████████████████████████████| 40669/40669 [00:54<00:00, 739.69it/s]\n",
      "100%|████████████████████████████████████| 20522/20522 [00:27<00:00, 751.03it/s]\n"
     ]
    }
   ],
   "source": [
    "test_images = [] \n",
    "for image, label in tqdm(test_classes[:40669].values, miniters = 1000):\n",
    "  path = '/home/pierre/Desktop/planet data/planet/planet/test-jpg/{}.jpg'.format(image)\n",
    "  test_images.append(cv2.resize(cv2.imread(path), (64,64)))\n",
    "for image, label in tqdm(test_classes[40669:].values, miniters = 1000):\n",
    "  path1 = '/home/pierre/Desktop/planet data/test-jpg-additional/test-jpg-additional/{}.jpg'.format(image)\n",
    "  test_images.append(cv2.resize(cv2.imread(path1), (64,64)))"
   ]
  },
  {
   "cell_type": "markdown",
   "metadata": {
    "id": "hw1da_gTxATZ"
   },
   "source": [
    "**NORMALIZING TRAIN AND TEST SET**"
   ]
  },
  {
   "cell_type": "code",
   "execution_count": 14,
   "metadata": {
    "id": "9xG7beoIxATa"
   },
   "outputs": [],
   "source": [
    "train_images = np.array(train_images, np.float16)/255.0\n",
    "train_labels = np.array(train_labels, np.uint8)\n",
    "test_images = np.array(test_images,np.float16)/255.0"
   ]
  },
  {
   "cell_type": "code",
   "execution_count": 15,
   "metadata": {
    "id": "Ko7qzp3qxATa"
   },
   "outputs": [
    {
     "data": {
      "text/plain": [
       "6483"
      ]
     },
     "execution_count": 15,
     "metadata": {},
     "output_type": "execute_result"
    }
   ],
   "source": [
    "gc.collect()"
   ]
  },
  {
   "cell_type": "code",
   "execution_count": 16,
   "metadata": {
    "id": "m8WL4ZoDxATb"
   },
   "outputs": [
    {
     "name": "stdout",
     "output_type": "stream",
     "text": [
      "(30359, 64, 64, 3) (30359, 17) (10120, 64, 64, 3) (10120, 17)\n"
     ]
    }
   ],
   "source": [
    "from sklearn.model_selection import train_test_split, KFold\n",
    "\n",
    "x_train, x_val, y_train, y_val = train_test_split(train_images, train_labels, test_size = 0.25, shuffle = True, random_state = 0)\n",
    "\n",
    "print(x_train.shape, y_train.shape, x_val.shape, y_val.shape)\n",
    "    "
   ]
  },
  {
   "cell_type": "code",
   "execution_count": 17,
   "metadata": {
    "id": "k4GHd5fKxATc"
   },
   "outputs": [],
   "source": [
    "from keras import backend as K\n",
    "from sklearn.metrics import fbeta_score\n",
    "from tensorflow import keras\n",
    "from keras.models import Sequential\n",
    "from tensorflow.keras.preprocessing.image import load_img, img_to_array\n",
    "from keras.layers import Dense, Dropout, Flatten\n",
    "from keras.layers import Conv2D, MaxPooling2D, BatchNormalization\n",
    "from keras.callbacks import EarlyStopping, ModelCheckpoint\n",
    "from keras import optimizers"
   ]
  },
  {
   "cell_type": "code",
   "execution_count": 18,
   "metadata": {
    "id": "bg68RubkxATd"
   },
   "outputs": [],
   "source": [
    "\n",
    "def fbeta(y_true, y_pred, threshold_shift=0):\n",
    "    beta = 2\n",
    "\n",
    "    # just in case of hipster activation at the final layer\n",
    "    y_pred = K.clip(y_pred, 0, 1)\n",
    "\n",
    "    # shifting the prediction threshold from .5 if needed\n",
    "    y_pred_bin = K.round(y_pred + threshold_shift)\n",
    "\n",
    "    tp = K.sum(K.round(y_true * y_pred_bin)) + K.epsilon()\n",
    "    fp = K.sum(K.round(K.clip(y_pred_bin - y_true, 0, 1)))\n",
    "    fn = K.sum(K.round(K.clip(y_true - y_pred, 0, 1)))\n",
    "\n",
    "    precision = tp / (tp + fp)\n",
    "    recall = tp / (tp + fn)\n",
    "\n",
    "    beta_squared = beta ** 2\n",
    "    return (beta_squared + 1) * (precision * recall) / (beta_squared * precision + recall + K.epsilon())\n"
   ]
  },
  {
   "cell_type": "code",
   "execution_count": 19,
   "metadata": {
    "id": "t-UQ2oNJxATd"
   },
   "outputs": [],
   "source": [
    "from keras.layers import Conv2D, Dense, Flatten, MaxPooling2D, BatchNormalization, Dropout\n",
    "from keras.optimizers import Adam, RMSprop\n"
   ]
  },
  {
   "cell_type": "code",
   "execution_count": 20,
   "metadata": {
    "id": "Hx_0AXhixATd",
    "outputId": "346f3769-a1ae-4dfd-b552-918bd67f9581"
   },
   "outputs": [
    {
     "name": "stdout",
     "output_type": "stream",
     "text": [
      "Epoch 1/10\n"
     ]
    },
    {
     "name": "stderr",
     "output_type": "stream",
     "text": [
      "2023-07-17 09:00:42.199587: W tensorflow/tsl/framework/cpu_allocator_impl.cc:83] Allocation of 1492205568 exceeds 10% of free system memory.\n"
     ]
    },
    {
     "name": "stdout",
     "output_type": "stream",
     "text": [
      "238/238 [==============================] - 51s 210ms/step - loss: 0.2606 - fbeta: 0.5947\n",
      "Epoch 2/10\n",
      "238/238 [==============================] - 86s 360ms/step - loss: 0.2127 - fbeta: 0.6460\n",
      "Epoch 3/10\n",
      "238/238 [==============================] - 66s 278ms/step - loss: 0.2073 - fbeta: 0.6559\n",
      "Epoch 4/10\n",
      "238/238 [==============================] - 48s 201ms/step - loss: 0.2040 - fbeta: 0.6620\n",
      "Epoch 5/10\n",
      "238/238 [==============================] - 48s 200ms/step - loss: 0.1979 - fbeta: 0.6774\n",
      "Epoch 6/10\n",
      "238/238 [==============================] - 46s 194ms/step - loss: 0.1945 - fbeta: 0.6903\n",
      "Epoch 7/10\n",
      "238/238 [==============================] - 47s 196ms/step - loss: 0.1925 - fbeta: 0.6957\n",
      "Epoch 8/10\n",
      "238/238 [==============================] - 46s 194ms/step - loss: 0.1898 - fbeta: 0.7010\n",
      "Epoch 9/10\n",
      "238/238 [==============================] - 48s 200ms/step - loss: 0.1877 - fbeta: 0.7061\n",
      "Epoch 10/10\n",
      "238/238 [==============================] - 46s 195ms/step - loss: 0.1860 - fbeta: 0.7101\n"
     ]
    },
    {
     "name": "stderr",
     "output_type": "stream",
     "text": [
      "2023-07-17 09:09:36.185801: W tensorflow/tsl/framework/cpu_allocator_impl.cc:83] Allocation of 497418240 exceeds 10% of free system memory.\n"
     ]
    },
    {
     "name": "stdout",
     "output_type": "stream",
     "text": [
      "317/317 [==============================] - 4s 13ms/step - loss: 0.1873 - fbeta: 0.7183\n",
      "Tested Acc: 0.7183013558387756\n"
     ]
    }
   ],
   "source": [
    "model = keras.Sequential()  #this model contains two hidden layer, an input and an output layer\n",
    "model.add(Conv2D(128, 5, 2, activation = \"relu\", input_shape = (64, 64, 3)))\n",
    "model.add(MaxPooling2D())\n",
    "model.add(Conv2D(64, 3, 2, activation = \"relu\"))\n",
    "model.add(MaxPooling2D())\n",
    "model.add(Flatten())\n",
    "model.add(Dense(17, activation = \"sigmoid\"))\n",
    "model.compile(loss = \"binary_crossentropy\", optimizer = 'adam', metrics = [fbeta])\n",
    "model.fit(x_train, y_train, epochs = 10, batch_size = 128)\n",
    "val_loss,val_acc = model.evaluate(x_val, y_val)\n",
    "print('Tested Acc:', val_acc)"
   ]
  },
  {
   "cell_type": "code",
   "execution_count": 21,
   "metadata": {
    "id": "b2FrjI-zxATe"
   },
   "outputs": [],
   "source": [
    "from keras.applications.vgg16 import VGG16"
   ]
  },
  {
   "cell_type": "code",
   "execution_count": 22,
   "metadata": {},
   "outputs": [
    {
     "name": "stdout",
     "output_type": "stream",
     "text": [
      "Requirement already satisfied: tensorflow-addons in ./anaconda3/lib/python3.10/site-packages (0.21.0)\n",
      "Requirement already satisfied: packaging in ./.local/lib/python3.10/site-packages (from tensorflow-addons) (23.1)\n",
      "Requirement already satisfied: typeguard<3.0.0,>=2.7 in ./anaconda3/lib/python3.10/site-packages (from tensorflow-addons) (2.13.3)\n",
      "Note: you may need to restart the kernel to use updated packages.\n"
     ]
    }
   ],
   "source": [
    "pip install tensorflow-addons"
   ]
  },
  {
   "cell_type": "code",
   "execution_count": 23,
   "metadata": {},
   "outputs": [
    {
     "name": "stderr",
     "output_type": "stream",
     "text": [
      "/home/pierre/anaconda3/lib/python3.10/site-packages/tensorflow_addons/utils/tfa_eol_msg.py:23: UserWarning: \n",
      "\n",
      "TensorFlow Addons (TFA) has ended development and introduction of new features.\n",
      "TFA has entered a minimal maintenance and release mode until a planned end of life in May 2024.\n",
      "Please modify downstream libraries to take dependencies from other repositories in our TensorFlow community (e.g. Keras, Keras-CV, and Keras-NLP). \n",
      "\n",
      "For more information see: https://github.com/tensorflow/addons/issues/2807 \n",
      "\n",
      "  warnings.warn(\n",
      "2023-07-17 09:09:49.989807: W tensorflow/tsl/framework/cpu_allocator_impl.cc:83] Allocation of 1492205568 exceeds 10% of free system memory.\n"
     ]
    },
    {
     "name": "stdout",
     "output_type": "stream",
     "text": [
      "Epoch 1/10\n",
      "238/238 [==============================] - 630s 3s/step - loss: 0.1955 - fbeta_score: 0.4805\n",
      "Epoch 2/10\n",
      "238/238 [==============================] - 606s 3s/step - loss: 0.1567 - fbeta_score: 0.4906\n",
      "Epoch 3/10\n",
      "238/238 [==============================] - 608s 3s/step - loss: 0.1495 - fbeta_score: 0.4923\n",
      "Epoch 4/10\n",
      "238/238 [==============================] - 607s 3s/step - loss: 0.1449 - fbeta_score: 0.4943\n",
      "Epoch 5/10\n",
      "238/238 [==============================] - 605s 3s/step - loss: 0.1429 - fbeta_score: 0.4939\n",
      "Epoch 6/10\n",
      "238/238 [==============================] - 601s 3s/step - loss: 0.1398 - fbeta_score: 0.4950\n",
      "Epoch 7/10\n",
      "238/238 [==============================] - 603s 3s/step - loss: 0.1385 - fbeta_score: 0.4955\n",
      "Epoch 8/10\n",
      "238/238 [==============================] - 602s 3s/step - loss: 0.1380 - fbeta_score: 0.4957\n",
      "Epoch 9/10\n",
      "238/238 [==============================] - 603s 3s/step - loss: 0.1365 - fbeta_score: 0.4957\n",
      "Epoch 10/10\n",
      "238/238 [==============================] - 640s 3s/step - loss: 0.1348 - fbeta_score: 0.4967\n"
     ]
    },
    {
     "name": "stderr",
     "output_type": "stream",
     "text": [
      "2023-07-17 10:51:39.672729: W tensorflow/tsl/framework/cpu_allocator_impl.cc:83] Allocation of 497418240 exceeds 10% of free system memory.\n"
     ]
    },
    {
     "name": "stdout",
     "output_type": "stream",
     "text": [
      "317/317 [==============================] - 217s 685ms/step - loss: 0.1353 - fbeta_score: 0.4970\n",
      "Tested Acc: 0.4970305562019348\n"
     ]
    }
   ],
   "source": [
    "import tensorflow_addons as tfa\n",
    "\n",
    "from tensorflow.keras.optimizers import Adam\n",
    "from tensorflow.keras.models import Sequential\n",
    "from tensorflow.keras.layers import Dense, Dropout, Flatten\n",
    "from tensorflow.keras.applications import VGG16\n",
    "\n",
    "optimizer = Adam(learning_rate=0.003)\n",
    "base_model = VGG16(weights='imagenet', include_top=False, input_shape=(64, 64, 3))\n",
    "\n",
    "for layer in base_model.layers:\n",
    "    layer.trainable = False\n",
    "\n",
    "model = Sequential([\n",
    "    base_model, Flatten(),\n",
    "    Dense(128, activation='relu'),\n",
    "    Dropout(0.2),\n",
    "    Dense(64, activation='relu'),\n",
    "    Dropout(0.2),\n",
    "    Dense(17, activation='sigmoid')\n",
    "])\n",
    "\n",
    "# Define the fbeta metric\n",
    "fbeta = tfa.metrics.FBetaScore(num_classes=17, average='micro', threshold=None)\n",
    "\n",
    "# Compile the model with the fbeta metric\n",
    "model.compile(loss='binary_crossentropy', optimizer=optimizer, metrics=[fbeta])\n",
    "\n",
    "model.fit(x_train, y_train, epochs=10, batch_size=128)\n",
    "val_loss, val_fbeta = model.evaluate(x_val, y_val)\n",
    "print('Tested Acc:', val_fbeta)"
   ]
  },
  {
   "cell_type": "code",
   "execution_count": 24,
   "metadata": {
    "id": "2JhJ9DFMxATe",
    "outputId": "312cc4b8-3fc0-4bc0-91a4-de056465064d"
   },
   "outputs": [
    {
     "data": {
      "text/plain": [
       "6134"
      ]
     },
     "execution_count": 24,
     "metadata": {},
     "output_type": "execute_result"
    }
   ],
   "source": [
    "gc.collect()"
   ]
  },
  {
   "cell_type": "code",
   "execution_count": 25,
   "metadata": {
    "id": "2VabyNgXxATe"
   },
   "outputs": [
    {
     "name": "stderr",
     "output_type": "stream",
     "text": [
      "2023-07-17 10:55:30.071803: W tensorflow/tsl/framework/cpu_allocator_impl.cc:83] Allocation of 3007660032 exceeds 10% of free system memory.\n"
     ]
    },
    {
     "name": "stdout",
     "output_type": "stream",
     "text": [
      "479/479 [==============================] - 1387s 3s/step\n"
     ]
    }
   ],
   "source": [
    "predictions = model.predict(test_images, batch_size = 128)\n",
    "result_list = []\n",
    "result_list.append(predictions)"
   ]
  },
  {
   "cell_type": "code",
   "execution_count": 26,
   "metadata": {
    "id": "tEK4B-t7xATf"
   },
   "outputs": [
    {
     "data": {
      "text/html": [
       "<div>\n",
       "<style scoped>\n",
       "    .dataframe tbody tr th:only-of-type {\n",
       "        vertical-align: middle;\n",
       "    }\n",
       "\n",
       "    .dataframe tbody tr th {\n",
       "        vertical-align: top;\n",
       "    }\n",
       "\n",
       "    .dataframe thead th {\n",
       "        text-align: right;\n",
       "    }\n",
       "</style>\n",
       "<table border=\"1\" class=\"dataframe\">\n",
       "  <thead>\n",
       "    <tr style=\"text-align: right;\">\n",
       "      <th></th>\n",
       "      <th>haze</th>\n",
       "      <th>primary</th>\n",
       "      <th>agriculture</th>\n",
       "      <th>clear</th>\n",
       "      <th>water</th>\n",
       "      <th>habitation</th>\n",
       "      <th>road</th>\n",
       "      <th>cultivation</th>\n",
       "      <th>slash_burn</th>\n",
       "      <th>cloudy</th>\n",
       "      <th>partly_cloudy</th>\n",
       "      <th>conventional_mine</th>\n",
       "      <th>bare_ground</th>\n",
       "      <th>artisinal_mine</th>\n",
       "      <th>blooming</th>\n",
       "      <th>selective_logging</th>\n",
       "      <th>blow_down</th>\n",
       "    </tr>\n",
       "  </thead>\n",
       "  <tbody>\n",
       "    <tr>\n",
       "      <th>0</th>\n",
       "      <td>0.083768</td>\n",
       "      <td>0.999631</td>\n",
       "      <td>0.032151</td>\n",
       "      <td>0.851917</td>\n",
       "      <td>0.030935</td>\n",
       "      <td>0.002313</td>\n",
       "      <td>0.013354</td>\n",
       "      <td>0.009447</td>\n",
       "      <td>0.000013</td>\n",
       "      <td>4.432827e-05</td>\n",
       "      <td>0.024217</td>\n",
       "      <td>4.912417e-07</td>\n",
       "      <td>0.001113</td>\n",
       "      <td>3.731579e-07</td>\n",
       "      <td>0.006076</td>\n",
       "      <td>0.001516</td>\n",
       "      <td>0.000286</td>\n",
       "    </tr>\n",
       "    <tr>\n",
       "      <th>1</th>\n",
       "      <td>0.001762</td>\n",
       "      <td>0.999944</td>\n",
       "      <td>0.081109</td>\n",
       "      <td>0.993134</td>\n",
       "      <td>0.115528</td>\n",
       "      <td>0.008249</td>\n",
       "      <td>0.089195</td>\n",
       "      <td>0.061489</td>\n",
       "      <td>0.000540</td>\n",
       "      <td>1.581879e-07</td>\n",
       "      <td>0.005042</td>\n",
       "      <td>5.963665e-06</td>\n",
       "      <td>0.004856</td>\n",
       "      <td>1.207417e-05</td>\n",
       "      <td>0.064765</td>\n",
       "      <td>0.066715</td>\n",
       "      <td>0.006097</td>\n",
       "    </tr>\n",
       "    <tr>\n",
       "      <th>2</th>\n",
       "      <td>0.000017</td>\n",
       "      <td>0.999509</td>\n",
       "      <td>0.056287</td>\n",
       "      <td>0.000052</td>\n",
       "      <td>0.049858</td>\n",
       "      <td>0.000491</td>\n",
       "      <td>0.012106</td>\n",
       "      <td>0.006906</td>\n",
       "      <td>0.000021</td>\n",
       "      <td>5.883505e-04</td>\n",
       "      <td>0.999432</td>\n",
       "      <td>3.399230e-07</td>\n",
       "      <td>0.000138</td>\n",
       "      <td>5.738993e-06</td>\n",
       "      <td>0.000018</td>\n",
       "      <td>0.000086</td>\n",
       "      <td>0.000022</td>\n",
       "    </tr>\n",
       "    <tr>\n",
       "      <th>3</th>\n",
       "      <td>0.001431</td>\n",
       "      <td>0.999949</td>\n",
       "      <td>0.051089</td>\n",
       "      <td>0.983129</td>\n",
       "      <td>0.023714</td>\n",
       "      <td>0.002378</td>\n",
       "      <td>0.012880</td>\n",
       "      <td>0.027884</td>\n",
       "      <td>0.000201</td>\n",
       "      <td>9.229833e-07</td>\n",
       "      <td>0.019685</td>\n",
       "      <td>4.473802e-06</td>\n",
       "      <td>0.003102</td>\n",
       "      <td>6.752558e-06</td>\n",
       "      <td>0.023877</td>\n",
       "      <td>0.008797</td>\n",
       "      <td>0.004196</td>\n",
       "    </tr>\n",
       "    <tr>\n",
       "      <th>4</th>\n",
       "      <td>0.014277</td>\n",
       "      <td>0.683254</td>\n",
       "      <td>0.236926</td>\n",
       "      <td>0.020189</td>\n",
       "      <td>0.213123</td>\n",
       "      <td>0.012974</td>\n",
       "      <td>0.106148</td>\n",
       "      <td>0.029831</td>\n",
       "      <td>0.000171</td>\n",
       "      <td>3.185273e-01</td>\n",
       "      <td>0.623451</td>\n",
       "      <td>4.609483e-04</td>\n",
       "      <td>0.013294</td>\n",
       "      <td>1.150536e-03</td>\n",
       "      <td>0.000083</td>\n",
       "      <td>0.000138</td>\n",
       "      <td>0.000105</td>\n",
       "    </tr>\n",
       "  </tbody>\n",
       "</table>\n",
       "</div>"
      ],
      "text/plain": [
       "       haze   primary  agriculture     clear     water  habitation      road  \\\n",
       "0  0.083768  0.999631     0.032151  0.851917  0.030935    0.002313  0.013354   \n",
       "1  0.001762  0.999944     0.081109  0.993134  0.115528    0.008249  0.089195   \n",
       "2  0.000017  0.999509     0.056287  0.000052  0.049858    0.000491  0.012106   \n",
       "3  0.001431  0.999949     0.051089  0.983129  0.023714    0.002378  0.012880   \n",
       "4  0.014277  0.683254     0.236926  0.020189  0.213123    0.012974  0.106148   \n",
       "\n",
       "   cultivation  slash_burn        cloudy  partly_cloudy  conventional_mine  \\\n",
       "0     0.009447    0.000013  4.432827e-05       0.024217       4.912417e-07   \n",
       "1     0.061489    0.000540  1.581879e-07       0.005042       5.963665e-06   \n",
       "2     0.006906    0.000021  5.883505e-04       0.999432       3.399230e-07   \n",
       "3     0.027884    0.000201  9.229833e-07       0.019685       4.473802e-06   \n",
       "4     0.029831    0.000171  3.185273e-01       0.623451       4.609483e-04   \n",
       "\n",
       "   bare_ground  artisinal_mine  blooming  selective_logging  blow_down  \n",
       "0     0.001113    3.731579e-07  0.006076           0.001516   0.000286  \n",
       "1     0.004856    1.207417e-05  0.064765           0.066715   0.006097  \n",
       "2     0.000138    5.738993e-06  0.000018           0.000086   0.000022  \n",
       "3     0.003102    6.752558e-06  0.023877           0.008797   0.004196  \n",
       "4     0.013294    1.150536e-03  0.000083           0.000138   0.000105  "
      ]
     },
     "execution_count": 26,
     "metadata": {},
     "output_type": "execute_result"
    }
   ],
   "source": [
    "answer = np.array(result_list[0])\n",
    "for i in range(1,len(result_list)):\n",
    "    answer += np.array(result_list[i])\n",
    "answer = pd.DataFrame(answer, columns = lst)\n",
    "answer.head()"
   ]
  },
  {
   "cell_type": "code",
   "execution_count": 27,
   "metadata": {
    "id": "c9y7HKmDxATf"
   },
   "outputs": [
    {
     "name": "stderr",
     "output_type": "stream",
     "text": [
      "100%|████████████████████████████████████| 61191/61191 [01:25<00:00, 716.12it/s]\n"
     ]
    }
   ],
   "source": [
    "pred_ = []\n",
    "for i in tqdm(range(answer.shape[0]),miniters = 1000):\n",
    "    a = answer.loc[[i]]\n",
    "    a = a.apply(lambda x: x > 0.2, axis = 1)\n",
    "    a = a.transpose()\n",
    "    a = a.loc[a[i]== True]\n",
    "    ' '.join(list(a.index))\n",
    "    pred_.append(' '.join(list(a.index)))"
   ]
  },
  {
   "cell_type": "code",
   "execution_count": 28,
   "metadata": {
    "id": "PYuDGFpHxATf"
   },
   "outputs": [],
   "source": [
    "test_classes['tags'] = pred_\n",
    "test_classes.to_csv('Submission.csv', index = False)"
   ]
  }
 ],
 "metadata": {
  "colab": {
   "provenance": []
  },
  "kernelspec": {
   "display_name": "Python 3 (ipykernel)",
   "language": "python",
   "name": "python3"
  },
  "language_info": {
   "codemirror_mode": {
    "name": "ipython",
    "version": 3
   },
   "file_extension": ".py",
   "mimetype": "text/x-python",
   "name": "python",
   "nbconvert_exporter": "python",
   "pygments_lexer": "ipython3",
   "version": "3.10.9"
  }
 },
 "nbformat": 4,
 "nbformat_minor": 1
}
